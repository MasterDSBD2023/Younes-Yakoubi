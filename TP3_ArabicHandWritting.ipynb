{
 "cells": [
  {
   "cell_type": "code",
   "execution_count": 156,
   "id": "61b3de0a",
   "metadata": {},
   "outputs": [],
   "source": [
    "import pandas as pd\n",
    "import numpy as np\n",
    "import matplotlib.pyplot as plt\n",
    "\n",
    "import tensorflow\n",
    "import tensorflow as tf\n",
    "from tensorflow import keras\n",
    "from sklearn.utils import shuffle\n",
    "from tensorflow.keras.utils import to_categorical\n",
    "from tensorflow.keras.models import Sequential\n",
    "from tensorflow.keras.layers import Conv2D,MaxPooling2D,Flatten,Dense,Dropout\n",
    "from tensorflow.keras.preprocessing.image import ImageDataGenerator"
   ]
  },
  {
   "cell_type": "code",
   "execution_count": 157,
   "id": "21f66a5b",
   "metadata": {},
   "outputs": [
    {
     "data": {
      "text/html": [
       "<div>\n",
       "<style scoped>\n",
       "    .dataframe tbody tr th:only-of-type {\n",
       "        vertical-align: middle;\n",
       "    }\n",
       "\n",
       "    .dataframe tbody tr th {\n",
       "        vertical-align: top;\n",
       "    }\n",
       "\n",
       "    .dataframe thead th {\n",
       "        text-align: right;\n",
       "    }\n",
       "</style>\n",
       "<table border=\"1\" class=\"dataframe\">\n",
       "  <thead>\n",
       "    <tr style=\"text-align: right;\">\n",
       "      <th></th>\n",
       "      <th>0</th>\n",
       "      <th>1</th>\n",
       "      <th>2</th>\n",
       "      <th>3</th>\n",
       "      <th>4</th>\n",
       "      <th>5</th>\n",
       "      <th>6</th>\n",
       "      <th>7</th>\n",
       "      <th>8</th>\n",
       "      <th>9</th>\n",
       "      <th>...</th>\n",
       "      <th>1014</th>\n",
       "      <th>1015</th>\n",
       "      <th>1016</th>\n",
       "      <th>1017</th>\n",
       "      <th>1018</th>\n",
       "      <th>1019</th>\n",
       "      <th>1020</th>\n",
       "      <th>1021</th>\n",
       "      <th>1022</th>\n",
       "      <th>1023</th>\n",
       "    </tr>\n",
       "  </thead>\n",
       "  <tbody>\n",
       "    <tr>\n",
       "      <th>0</th>\n",
       "      <td>0</td>\n",
       "      <td>0</td>\n",
       "      <td>0</td>\n",
       "      <td>0</td>\n",
       "      <td>0</td>\n",
       "      <td>0</td>\n",
       "      <td>0</td>\n",
       "      <td>0</td>\n",
       "      <td>0</td>\n",
       "      <td>0</td>\n",
       "      <td>...</td>\n",
       "      <td>0</td>\n",
       "      <td>0</td>\n",
       "      <td>0</td>\n",
       "      <td>0</td>\n",
       "      <td>0</td>\n",
       "      <td>0</td>\n",
       "      <td>0</td>\n",
       "      <td>0</td>\n",
       "      <td>0</td>\n",
       "      <td>0</td>\n",
       "    </tr>\n",
       "    <tr>\n",
       "      <th>1</th>\n",
       "      <td>0</td>\n",
       "      <td>0</td>\n",
       "      <td>0</td>\n",
       "      <td>0</td>\n",
       "      <td>0</td>\n",
       "      <td>0</td>\n",
       "      <td>0</td>\n",
       "      <td>0</td>\n",
       "      <td>0</td>\n",
       "      <td>0</td>\n",
       "      <td>...</td>\n",
       "      <td>0</td>\n",
       "      <td>0</td>\n",
       "      <td>0</td>\n",
       "      <td>0</td>\n",
       "      <td>0</td>\n",
       "      <td>0</td>\n",
       "      <td>0</td>\n",
       "      <td>0</td>\n",
       "      <td>0</td>\n",
       "      <td>0</td>\n",
       "    </tr>\n",
       "    <tr>\n",
       "      <th>2</th>\n",
       "      <td>0</td>\n",
       "      <td>0</td>\n",
       "      <td>0</td>\n",
       "      <td>0</td>\n",
       "      <td>0</td>\n",
       "      <td>0</td>\n",
       "      <td>0</td>\n",
       "      <td>0</td>\n",
       "      <td>0</td>\n",
       "      <td>0</td>\n",
       "      <td>...</td>\n",
       "      <td>0</td>\n",
       "      <td>0</td>\n",
       "      <td>0</td>\n",
       "      <td>0</td>\n",
       "      <td>0</td>\n",
       "      <td>0</td>\n",
       "      <td>0</td>\n",
       "      <td>0</td>\n",
       "      <td>0</td>\n",
       "      <td>0</td>\n",
       "    </tr>\n",
       "    <tr>\n",
       "      <th>3</th>\n",
       "      <td>0</td>\n",
       "      <td>0</td>\n",
       "      <td>0</td>\n",
       "      <td>0</td>\n",
       "      <td>0</td>\n",
       "      <td>0</td>\n",
       "      <td>0</td>\n",
       "      <td>0</td>\n",
       "      <td>0</td>\n",
       "      <td>0</td>\n",
       "      <td>...</td>\n",
       "      <td>0</td>\n",
       "      <td>0</td>\n",
       "      <td>0</td>\n",
       "      <td>0</td>\n",
       "      <td>0</td>\n",
       "      <td>0</td>\n",
       "      <td>0</td>\n",
       "      <td>0</td>\n",
       "      <td>0</td>\n",
       "      <td>0</td>\n",
       "    </tr>\n",
       "    <tr>\n",
       "      <th>4</th>\n",
       "      <td>0</td>\n",
       "      <td>0</td>\n",
       "      <td>0</td>\n",
       "      <td>0</td>\n",
       "      <td>0</td>\n",
       "      <td>0</td>\n",
       "      <td>0</td>\n",
       "      <td>0</td>\n",
       "      <td>0</td>\n",
       "      <td>0</td>\n",
       "      <td>...</td>\n",
       "      <td>0</td>\n",
       "      <td>0</td>\n",
       "      <td>0</td>\n",
       "      <td>0</td>\n",
       "      <td>0</td>\n",
       "      <td>0</td>\n",
       "      <td>0</td>\n",
       "      <td>0</td>\n",
       "      <td>0</td>\n",
       "      <td>0</td>\n",
       "    </tr>\n",
       "  </tbody>\n",
       "</table>\n",
       "<p>5 rows × 1024 columns</p>\n",
       "</div>"
      ],
      "text/plain": [
       "   0     1     2     3     4     5     6     7     8     9     ...  1014  \\\n",
       "0     0     0     0     0     0     0     0     0     0     0  ...     0   \n",
       "1     0     0     0     0     0     0     0     0     0     0  ...     0   \n",
       "2     0     0     0     0     0     0     0     0     0     0  ...     0   \n",
       "3     0     0     0     0     0     0     0     0     0     0  ...     0   \n",
       "4     0     0     0     0     0     0     0     0     0     0  ...     0   \n",
       "\n",
       "   1015  1016  1017  1018  1019  1020  1021  1022  1023  \n",
       "0     0     0     0     0     0     0     0     0     0  \n",
       "1     0     0     0     0     0     0     0     0     0  \n",
       "2     0     0     0     0     0     0     0     0     0  \n",
       "3     0     0     0     0     0     0     0     0     0  \n",
       "4     0     0     0     0     0     0     0     0     0  \n",
       "\n",
       "[5 rows x 1024 columns]"
      ]
     },
     "execution_count": 157,
     "metadata": {},
     "output_type": "execute_result"
    }
   ],
   "source": [
    "x_train = pd.read_csv(\"csvTrainImages 13440x1024.csv\",header=None)\n",
    "y_train = pd.read_csv(\"csvTrainLabel 13440x1.csv\",header=None)\n",
    "\n",
    "x_test = pd.read_csv(\"csvTestImages 3360x1024.csv\",header=None)\n",
    "y_test = pd.read_csv(\"csvTestLabel 3360x1.csv\",header=None)\n",
    "x_train.head()"
   ]
  },
  {
   "cell_type": "code",
   "execution_count": 158,
   "id": "521741a6",
   "metadata": {},
   "outputs": [
    {
     "name": "stdout",
     "output_type": "stream",
     "text": [
      "(13440, 1024)\n",
      "(13440, 1)\n",
      "(3360, 1024)\n",
      "(3360, 1)\n"
     ]
    }
   ],
   "source": [
    "print(x_train.shape)\n",
    "print(y_train.shape)\n",
    "print(x_test.shape)\n",
    "print(y_test.shape)"
   ]
  },
  {
   "cell_type": "code",
   "execution_count": 159,
   "id": "0c19eeed",
   "metadata": {},
   "outputs": [],
   "source": [
    "x_train  = x_train.iloc[:,:].values\n",
    "x_test   = x_test.iloc[:,:].values\n",
    "\n",
    "y_train  = y_train.iloc[:,:].values\n",
    "y_test   = y_test.iloc[:,:].values"
   ]
  },
  {
   "cell_type": "code",
   "execution_count": 160,
   "id": "cdb1801b",
   "metadata": {},
   "outputs": [
    {
     "data": {
      "text/plain": [
       "array([2], dtype=int64)"
      ]
     },
     "execution_count": 160,
     "metadata": {},
     "output_type": "execute_result"
    }
   ],
   "source": [
    "y_train[11]"
   ]
  },
  {
   "cell_type": "code",
   "execution_count": 161,
   "id": "ca91ab09",
   "metadata": {},
   "outputs": [
    {
     "name": "stdout",
     "output_type": "stream",
     "text": [
      "Labels:  [ 1  2  3  4  5  6  7  8  9 10 11 12 13 14 15 16 17 18 19 20 21 22 23 24\n",
      " 25 26 27 28]\n"
     ]
    }
   ],
   "source": [
    "print(\"Labels: \", np.unique(y_train))"
   ]
  },
  {
   "cell_type": "code",
   "execution_count": 162,
   "id": "2ed5a90b",
   "metadata": {},
   "outputs": [
    {
     "name": "stdout",
     "output_type": "stream",
     "text": [
      "(13440, 32, 32)\n",
      "(3360, 32, 32)\n"
     ]
    }
   ],
   "source": [
    "x_train = x_train.reshape(-1,32,32)\n",
    "x_test = x_test.reshape(-1,32,32)\n",
    "x_train = x_train/255\n",
    "x_test = x_test/255\n",
    "print(x_train.shape)\n",
    "print(x_test.shape)"
   ]
  },
  {
   "cell_type": "code",
   "execution_count": 163,
   "id": "528ac6ae",
   "metadata": {},
   "outputs": [
    {
     "data": {
      "text/plain": [
       "<matplotlib.image.AxesImage at 0x1d20ef7e8c8>"
      ]
     },
     "execution_count": 163,
     "metadata": {},
     "output_type": "execute_result"
    },
    {
     "data": {
      "image/png": "[encoded data removed]",
      "text/plain": [
       "<Figure size 432x288 with 1 Axes>"
      ]
     },
     "metadata": {
      "needs_background": "light"
     },
     "output_type": "display_data"
    }
   ],
   "source": [
    "import matplotlib.pyplot as plt\n",
    "plt.imshow(x_train[11])"
   ]
  },
  {
   "cell_type": "code",
   "execution_count": 164,
   "id": "b494a8bf",
   "metadata": {},
   "outputs": [
    {
     "name": "stdout",
     "output_type": "stream",
     "text": [
      "29\n",
      "(13440, 29) (3360, 29)\n"
     ]
    }
   ],
   "source": [
    "nbr_classes=len(np.unique(y_train))+1\n",
    "print(nbr_classes)\n",
    "y_train = to_categorical(y_train, nbr_classes)\n",
    "y_test = to_categorical(y_test, nbr_classes)\n",
    "print(y_train.shape, y_test.shape)"
   ]
  },
  {
   "cell_type": "code",
   "execution_count": 165,
   "id": "b6d0fe2c",
   "metadata": {},
   "outputs": [],
   "source": [
    "x_train = x_train.reshape([-1, 32, 32, 1])\n",
    "x_test = x_test.reshape([-1, 32, 32, 1])"
   ]
  },
  {
   "cell_type": "code",
   "execution_count": 166,
   "id": "5b137ebb",
   "metadata": {},
   "outputs": [
    {
     "name": "stdout",
     "output_type": "stream",
     "text": [
      "(13440, 32, 32, 1) (3360, 32, 32, 1)\n"
     ]
    }
   ],
   "source": [
    "print(x_train.shape, x_test.shape)\n"
   ]
  },
  {
   "cell_type": "code",
   "execution_count": 168,
   "id": "4173e3a2",
   "metadata": {},
   "outputs": [],
   "source": [
    "model = Sequential([\n",
    "    Conv2D(32, 3, padding='same', activation='relu', input_shape=(32,32,1)),\n",
    "    MaxPooling2D(2,2),\n",
    "    \n",
    "    Conv2D(64, 3, padding='same', activation='relu'),\n",
    "    MaxPooling2D(2,2),\n",
    "    \n",
    "    Conv2D(128, 3, padding='same', activation='relu'),\n",
    "    MaxPooling2D(2,2),\n",
    "    \n",
    "    Conv2D(64, 3, padding='same', activation='relu'),\n",
    "    MaxPooling2D(2,2),\n",
    "    \n",
    "    Flatten(),\n",
    "    \n",
    "    Dense(128, activation='relu'),\n",
    "    Dense(256, activation='relu'),\n",
    "    Dense(nbr_classes, activation='softmax')\n",
    "   ])"
   ]
  },
  {
   "cell_type": "code",
   "execution_count": 169,
   "id": "3ec474cb",
   "metadata": {},
   "outputs": [
    {
     "name": "stdout",
     "output_type": "stream",
     "text": [
      "Model: \"sequential\"\n",
      "_________________________________________________________________\n",
      "Layer (type)                 Output Shape              Param #   \n",
      "=================================================================\n",
      "conv2d_8 (Conv2D)            (None, 32, 32, 32)        320       \n",
      "_________________________________________________________________\n",
      "max_pooling2d_8 (MaxPooling2 (None, 16, 16, 32)        0         \n",
      "_________________________________________________________________\n",
      "conv2d_9 (Conv2D)            (None, 16, 16, 64)        18496     \n",
      "_________________________________________________________________\n",
      "max_pooling2d_9 (MaxPooling2 (None, 8, 8, 64)          0         \n",
      "_________________________________________________________________\n",
      "conv2d_10 (Conv2D)           (None, 8, 8, 128)         73856     \n",
      "_________________________________________________________________\n",
      "max_pooling2d_10 (MaxPooling (None, 4, 4, 128)         0         \n",
      "_________________________________________________________________\n",
      "conv2d_11 (Conv2D)           (None, 4, 4, 64)          73792     \n",
      "_________________________________________________________________\n",
      "max_pooling2d_11 (MaxPooling (None, 2, 2, 64)          0         \n",
      "_________________________________________________________________\n",
      "flatten_2 (Flatten)          (None, 256)               0         \n",
      "_________________________________________________________________\n",
      "dense_4 (Dense)              (None, 128)               32896     \n",
      "_________________________________________________________________\n",
      "dense_5 (Dense)              (None, 256)               33024     \n",
      "_________________________________________________________________\n",
      "dense_6 (Dense)              (None, 29)                7453      \n",
      "=================================================================\n",
      "Total params: 239,837\n",
      "Trainable params: 239,837\n",
      "Non-trainable params: 0\n",
      "_________________________________________________________________\n"
     ]
    }
   ],
   "source": [
    "model.summary()"
   ]
  },
  {
   "cell_type": "code",
   "execution_count": 170,
   "id": "e87e481c",
   "metadata": {},
   "outputs": [],
   "source": [
    "model.compile(loss='categorical_crossentropy', optimizer='adam', metrics=['accuracy'])"
   ]
  },
  {
   "cell_type": "code",
   "execution_count": 171,
   "id": "9c3711e4",
   "metadata": {},
   "outputs": [],
   "source": [
    "image_generator = ImageDataGenerator(width_shift_range=0.1,\n",
    "                             height_shift_range=0.1,\n",
    "                             horizontal_flip=True)\n",
    "image_generator.fit(x_train)"
   ]
  },
  {
   "cell_type": "code",
   "execution_count": 172,
   "id": "28c244fa",
   "metadata": {},
   "outputs": [
    {
     "name": "stdout",
     "output_type": "stream",
     "text": [
      "WARNING:tensorflow:From <ipython-input-172-67f2b337446e>:7: Model.fit_generator (from tensorflow.python.keras.engine.training) is deprecated and will be removed in a future version.\n",
      "Instructions for updating:\n",
      "Please use Model.fit, which supports generators.\n",
      "WARNING:tensorflow:sample_weight modes were coerced from\n",
      "  ...\n",
      "    to  \n",
      "  ['...']\n",
      "Train for 105 steps, validate on 3360 samples\n",
      "Epoch 1/100\n",
      "105/105 - 14s - loss: 2.5780 - accuracy: 0.1949 - val_loss: 1.6035 - val_accuracy: 0.4023\n",
      "Epoch 2/100\n",
      "105/105 - 15s - loss: 1.3792 - accuracy: 0.5052 - val_loss: 1.0641 - val_accuracy: 0.5998\n",
      "Epoch 3/100\n",
      "105/105 - 15s - loss: 1.0298 - accuracy: 0.6254 - val_loss: 0.7362 - val_accuracy: 0.7353\n",
      "Epoch 4/100\n",
      "105/105 - 13s - loss: 0.8391 - accuracy: 0.6967 - val_loss: 0.7053 - val_accuracy: 0.7371\n",
      "Epoch 5/100\n",
      "105/105 - 13s - loss: 0.6914 - accuracy: 0.7526 - val_loss: 0.5198 - val_accuracy: 0.8110\n",
      "Epoch 6/100\n",
      "105/105 - 13s - loss: 0.6096 - accuracy: 0.7827 - val_loss: 0.4510 - val_accuracy: 0.8428\n",
      "Epoch 7/100\n",
      "105/105 - 13s - loss: 0.5414 - accuracy: 0.8100 - val_loss: 0.4283 - val_accuracy: 0.8531\n",
      "Epoch 8/100\n",
      "105/105 - 14s - loss: 0.4835 - accuracy: 0.8333 - val_loss: 0.3723 - val_accuracy: 0.8744\n",
      "Epoch 9/100\n",
      "105/105 - 13s - loss: 0.4775 - accuracy: 0.8327 - val_loss: 0.4055 - val_accuracy: 0.8600\n",
      "Epoch 10/100\n",
      "105/105 - 13s - loss: 0.4111 - accuracy: 0.8554 - val_loss: 0.4374 - val_accuracy: 0.8444\n",
      "Epoch 11/100\n",
      "105/105 - 13s - loss: 0.3897 - accuracy: 0.8626 - val_loss: 0.3978 - val_accuracy: 0.8576\n",
      "Epoch 12/100\n",
      "105/105 - 13s - loss: 0.3769 - accuracy: 0.8687 - val_loss: 0.3350 - val_accuracy: 0.8873\n",
      "Epoch 13/100\n",
      "105/105 - 13s - loss: 0.3416 - accuracy: 0.8810 - val_loss: 0.2821 - val_accuracy: 0.9108\n",
      "Epoch 14/100\n",
      "105/105 - 13s - loss: 0.3228 - accuracy: 0.8884 - val_loss: 0.2873 - val_accuracy: 0.9099\n",
      "Epoch 15/100\n",
      "105/105 - 13s - loss: 0.2983 - accuracy: 0.8999 - val_loss: 0.2531 - val_accuracy: 0.9174\n",
      "Epoch 16/100\n",
      "105/105 - 13s - loss: 0.2877 - accuracy: 0.9029 - val_loss: 0.2836 - val_accuracy: 0.9078\n",
      "Epoch 17/100\n",
      "105/105 - 13s - loss: 0.2570 - accuracy: 0.9113 - val_loss: 0.2899 - val_accuracy: 0.9105\n",
      "Epoch 18/100\n",
      "105/105 - 13s - loss: 0.2535 - accuracy: 0.9161 - val_loss: 0.2152 - val_accuracy: 0.9294\n",
      "Epoch 19/100\n",
      "105/105 - 13s - loss: 0.2522 - accuracy: 0.9142 - val_loss: 0.2757 - val_accuracy: 0.9144\n",
      "Epoch 20/100\n",
      "105/105 - 14s - loss: 0.2249 - accuracy: 0.9231 - val_loss: 0.2611 - val_accuracy: 0.9162\n",
      "Epoch 21/100\n",
      "105/105 - 13s - loss: 0.2233 - accuracy: 0.9257 - val_loss: 0.2350 - val_accuracy: 0.9267\n",
      "Epoch 22/100\n",
      "105/105 - 13s - loss: 0.2135 - accuracy: 0.9272 - val_loss: 0.2767 - val_accuracy: 0.9087\n",
      "Epoch 23/100\n",
      "105/105 - 14s - loss: 0.2071 - accuracy: 0.9292 - val_loss: 0.2557 - val_accuracy: 0.9240\n",
      "Epoch 24/100\n",
      "105/105 - 14s - loss: 0.2132 - accuracy: 0.9277 - val_loss: 0.2311 - val_accuracy: 0.9297\n",
      "Epoch 25/100\n",
      "105/105 - 13s - loss: 0.1965 - accuracy: 0.9326 - val_loss: 0.2241 - val_accuracy: 0.9363\n",
      "Epoch 26/100\n",
      "105/105 - 14s - loss: 0.1854 - accuracy: 0.9391 - val_loss: 0.2275 - val_accuracy: 0.9315\n",
      "Epoch 27/100\n",
      "105/105 - 14s - loss: 0.1818 - accuracy: 0.9379 - val_loss: 0.1949 - val_accuracy: 0.9438\n",
      "Epoch 28/100\n",
      "105/105 - 18s - loss: 0.1753 - accuracy: 0.9405 - val_loss: 0.2242 - val_accuracy: 0.9360\n",
      "Epoch 29/100\n",
      "105/105 - 15s - loss: 0.1777 - accuracy: 0.9388 - val_loss: 0.1973 - val_accuracy: 0.9444\n",
      "Epoch 30/100\n",
      "105/105 - 14s - loss: 0.1586 - accuracy: 0.9464 - val_loss: 0.2311 - val_accuracy: 0.9333\n",
      "Epoch 31/100\n",
      "105/105 - 15s - loss: 0.1626 - accuracy: 0.9453 - val_loss: 0.1966 - val_accuracy: 0.9435\n",
      "Epoch 32/100\n",
      "105/105 - 14s - loss: 0.1540 - accuracy: 0.9469 - val_loss: 0.1770 - val_accuracy: 0.9507\n",
      "Epoch 33/100\n",
      "105/105 - 14s - loss: 0.1470 - accuracy: 0.9497 - val_loss: 0.1762 - val_accuracy: 0.9525\n",
      "Epoch 34/100\n",
      "105/105 - 14s - loss: 0.1366 - accuracy: 0.9551 - val_loss: 0.1724 - val_accuracy: 0.9516\n",
      "Epoch 35/100\n",
      "105/105 - 14s - loss: 0.1454 - accuracy: 0.9508 - val_loss: 0.1698 - val_accuracy: 0.9525\n",
      "Epoch 36/100\n",
      "105/105 - 13s - loss: 0.1381 - accuracy: 0.9542 - val_loss: 0.1615 - val_accuracy: 0.9525\n",
      "Epoch 37/100\n",
      "105/105 - 13s - loss: 0.1321 - accuracy: 0.9551 - val_loss: 0.1697 - val_accuracy: 0.9525\n",
      "Epoch 38/100\n",
      "105/105 - 13s - loss: 0.1258 - accuracy: 0.9582 - val_loss: 0.2187 - val_accuracy: 0.9399\n",
      "Epoch 39/100\n",
      "105/105 - 15s - loss: 0.1328 - accuracy: 0.9544 - val_loss: 0.2270 - val_accuracy: 0.9363\n",
      "Epoch 40/100\n",
      "105/105 - 16s - loss: 0.1266 - accuracy: 0.9551 - val_loss: 0.1808 - val_accuracy: 0.9489\n",
      "Epoch 41/100\n",
      "105/105 - 15s - loss: 0.1221 - accuracy: 0.9595 - val_loss: 0.2019 - val_accuracy: 0.9417\n",
      "Epoch 42/100\n",
      "105/105 - 15s - loss: 0.1163 - accuracy: 0.9629 - val_loss: 0.1872 - val_accuracy: 0.9498\n",
      "Epoch 43/100\n",
      "105/105 - 15s - loss: 0.1202 - accuracy: 0.9593 - val_loss: 0.1816 - val_accuracy: 0.9501\n",
      "Epoch 44/100\n",
      "105/105 - 15s - loss: 0.1303 - accuracy: 0.9559 - val_loss: 0.1629 - val_accuracy: 0.9525\n",
      "Epoch 45/100\n",
      "105/105 - 15s - loss: 0.1048 - accuracy: 0.9667 - val_loss: 0.2041 - val_accuracy: 0.9441\n",
      "Epoch 46/100\n",
      "105/105 - 16s - loss: 0.1081 - accuracy: 0.9629 - val_loss: 0.1769 - val_accuracy: 0.9504\n",
      "Epoch 47/100\n",
      "105/105 - 15s - loss: 0.1085 - accuracy: 0.9641 - val_loss: 0.1609 - val_accuracy: 0.9558\n",
      "Epoch 48/100\n",
      "105/105 - 14s - loss: 0.1140 - accuracy: 0.9630 - val_loss: 0.1485 - val_accuracy: 0.9576\n",
      "Epoch 49/100\n",
      "105/105 - 13s - loss: 0.1015 - accuracy: 0.9645 - val_loss: 0.1783 - val_accuracy: 0.9537\n",
      "Epoch 50/100\n",
      "105/105 - 13s - loss: 0.0958 - accuracy: 0.9665 - val_loss: 0.1730 - val_accuracy: 0.9537\n",
      "Epoch 51/100\n",
      "105/105 - 13s - loss: 0.0990 - accuracy: 0.9668 - val_loss: 0.1708 - val_accuracy: 0.9588\n",
      "Epoch 52/100\n",
      "105/105 - 17s - loss: 0.1009 - accuracy: 0.9661 - val_loss: 0.1600 - val_accuracy: 0.9549\n",
      "Epoch 53/100\n",
      "105/105 - 19s - loss: 0.1006 - accuracy: 0.9654 - val_loss: 0.2007 - val_accuracy: 0.9483\n",
      "Epoch 54/100\n",
      "105/105 - 22s - loss: 0.0883 - accuracy: 0.9705 - val_loss: 0.1506 - val_accuracy: 0.9573\n",
      "Epoch 55/100\n",
      "105/105 - 18s - loss: 0.1064 - accuracy: 0.9642 - val_loss: 0.1724 - val_accuracy: 0.9567\n",
      "Epoch 56/100\n",
      "105/105 - 14s - loss: 0.0875 - accuracy: 0.9711 - val_loss: 0.1786 - val_accuracy: 0.9537\n",
      "Epoch 57/100\n",
      "105/105 - 14s - loss: 0.0998 - accuracy: 0.9670 - val_loss: 0.1694 - val_accuracy: 0.9561\n",
      "Epoch 58/100\n",
      "105/105 - 14s - loss: 0.0886 - accuracy: 0.9686 - val_loss: 0.2075 - val_accuracy: 0.9450\n",
      "Epoch 59/100\n",
      "105/105 - 23s - loss: 0.0937 - accuracy: 0.9691 - val_loss: 0.1718 - val_accuracy: 0.9555\n",
      "Epoch 60/100\n",
      "105/105 - 14s - loss: 0.0829 - accuracy: 0.9735 - val_loss: 0.1459 - val_accuracy: 0.9561\n",
      "Epoch 61/100\n",
      "105/105 - 14s - loss: 0.0894 - accuracy: 0.9697 - val_loss: 0.1273 - val_accuracy: 0.9633\n",
      "Epoch 62/100\n",
      "105/105 - 13s - loss: 0.0813 - accuracy: 0.9748 - val_loss: 0.1527 - val_accuracy: 0.9600\n",
      "Epoch 63/100\n",
      "105/105 - 13s - loss: 0.0795 - accuracy: 0.9731 - val_loss: 0.1461 - val_accuracy: 0.9642\n",
      "Epoch 64/100\n",
      "105/105 - 14s - loss: 0.0822 - accuracy: 0.9714 - val_loss: 0.1573 - val_accuracy: 0.9582\n",
      "Epoch 65/100\n",
      "105/105 - 13s - loss: 0.0814 - accuracy: 0.9715 - val_loss: 0.1797 - val_accuracy: 0.9525\n",
      "Epoch 66/100\n",
      "105/105 - 14s - loss: 0.0817 - accuracy: 0.9730 - val_loss: 0.1479 - val_accuracy: 0.9609\n",
      "Epoch 67/100\n",
      "105/105 - 14s - loss: 0.0813 - accuracy: 0.9724 - val_loss: 0.1649 - val_accuracy: 0.9510\n",
      "Epoch 68/100\n",
      "105/105 - 14s - loss: 0.0716 - accuracy: 0.9778 - val_loss: 0.1511 - val_accuracy: 0.9606\n",
      "Epoch 69/100\n",
      "105/105 - 14s - loss: 0.0747 - accuracy: 0.9748 - val_loss: 0.1537 - val_accuracy: 0.9618\n",
      "Epoch 70/100\n",
      "105/105 - 14s - loss: 0.0672 - accuracy: 0.9787 - val_loss: 0.1627 - val_accuracy: 0.9591\n",
      "Epoch 71/100\n",
      "105/105 - 13s - loss: 0.0724 - accuracy: 0.9754 - val_loss: 0.1494 - val_accuracy: 0.9663\n",
      "Epoch 72/100\n",
      "105/105 - 14s - loss: 0.0746 - accuracy: 0.9751 - val_loss: 0.1378 - val_accuracy: 0.9630\n",
      "Epoch 73/100\n",
      "105/105 - 14s - loss: 0.0812 - accuracy: 0.9708 - val_loss: 0.1693 - val_accuracy: 0.9573\n",
      "Epoch 74/100\n",
      "105/105 - 14s - loss: 0.0776 - accuracy: 0.9738 - val_loss: 0.1473 - val_accuracy: 0.9630\n",
      "Epoch 75/100\n",
      "105/105 - 13s - loss: 0.0652 - accuracy: 0.9776 - val_loss: 0.1672 - val_accuracy: 0.9630\n",
      "Epoch 76/100\n",
      "105/105 - 14s - loss: 0.0713 - accuracy: 0.9760 - val_loss: 0.1507 - val_accuracy: 0.9612\n",
      "Epoch 77/100\n",
      "105/105 - 14s - loss: 0.0785 - accuracy: 0.9738 - val_loss: 0.1356 - val_accuracy: 0.9648\n",
      "Epoch 78/100\n",
      "105/105 - 14s - loss: 0.0684 - accuracy: 0.9763 - val_loss: 0.1500 - val_accuracy: 0.9606\n",
      "Epoch 79/100\n",
      "105/105 - 17s - loss: 0.0656 - accuracy: 0.9772 - val_loss: 0.1291 - val_accuracy: 0.9669\n",
      "Epoch 80/100\n",
      "105/105 - 20s - loss: 0.0599 - accuracy: 0.9802 - val_loss: 0.1847 - val_accuracy: 0.9561\n",
      "Epoch 81/100\n",
      "105/105 - 19s - loss: 0.0769 - accuracy: 0.9734 - val_loss: 0.1482 - val_accuracy: 0.9633\n",
      "Epoch 82/100\n",
      "105/105 - 19s - loss: 0.0670 - accuracy: 0.9768 - val_loss: 0.1531 - val_accuracy: 0.9654\n",
      "Epoch 83/100\n",
      "105/105 - 16s - loss: 0.0607 - accuracy: 0.9796 - val_loss: 0.1593 - val_accuracy: 0.9642\n",
      "Epoch 84/100\n",
      "105/105 - 13s - loss: 0.0659 - accuracy: 0.9793 - val_loss: 0.1434 - val_accuracy: 0.9642\n",
      "Epoch 85/100\n",
      "105/105 - 13s - loss: 0.0734 - accuracy: 0.9774 - val_loss: 0.1475 - val_accuracy: 0.9654\n",
      "Epoch 86/100\n",
      "105/105 - 13s - loss: 0.0637 - accuracy: 0.9790 - val_loss: 0.1587 - val_accuracy: 0.9648\n",
      "Epoch 87/100\n",
      "105/105 - 14s - loss: 0.0665 - accuracy: 0.9766 - val_loss: 0.1416 - val_accuracy: 0.9612\n",
      "Epoch 88/100\n",
      "105/105 - 14s - loss: 0.0581 - accuracy: 0.9806 - val_loss: 0.1660 - val_accuracy: 0.9612\n",
      "Epoch 89/100\n",
      "105/105 - 13s - loss: 0.0594 - accuracy: 0.9802 - val_loss: 0.1358 - val_accuracy: 0.9684\n",
      "Epoch 90/100\n",
      "105/105 - 13s - loss: 0.0554 - accuracy: 0.9812 - val_loss: 0.1711 - val_accuracy: 0.9561\n",
      "Epoch 91/100\n",
      "105/105 - 14s - loss: 0.0619 - accuracy: 0.9797 - val_loss: 0.1326 - val_accuracy: 0.9657\n",
      "Epoch 92/100\n",
      "105/105 - 20s - loss: 0.0602 - accuracy: 0.9789 - val_loss: 0.1452 - val_accuracy: 0.9678\n",
      "Epoch 93/100\n",
      "105/105 - 14s - loss: 0.0624 - accuracy: 0.9799 - val_loss: 0.1410 - val_accuracy: 0.9669\n",
      "Epoch 94/100\n",
      "105/105 - 14s - loss: 0.0587 - accuracy: 0.9808 - val_loss: 0.1435 - val_accuracy: 0.9636\n",
      "Epoch 95/100\n",
      "105/105 - 13s - loss: 0.0543 - accuracy: 0.9820 - val_loss: 0.1658 - val_accuracy: 0.9648\n",
      "Epoch 96/100\n",
      "105/105 - 14s - loss: 0.0559 - accuracy: 0.9812 - val_loss: 0.1460 - val_accuracy: 0.9688\n",
      "Epoch 97/100\n",
      "105/105 - 14s - loss: 0.0603 - accuracy: 0.9798 - val_loss: 0.1655 - val_accuracy: 0.9603\n",
      "Epoch 98/100\n",
      "105/105 - 13s - loss: 0.0601 - accuracy: 0.9802 - val_loss: 0.1551 - val_accuracy: 0.9639\n",
      "Epoch 99/100\n",
      "105/105 - 14s - loss: 0.0466 - accuracy: 0.9842 - val_loss: 0.1749 - val_accuracy: 0.9633\n",
      "Epoch 100/100\n",
      "105/105 - 14s - loss: 0.0609 - accuracy: 0.9786 - val_loss: 0.1570 - val_accuracy: 0.9636\n"
     ]
    }
   ],
   "source": [
    "batch_size = 128\n",
    "\n",
    "history = model.fit_generator(image_generator.flow(x_train, y_train, batch_size=batch_size),\n",
    "                    steps_per_epoch=x_train.shape[0] // batch_size,\n",
    "                    epochs=100, verbose=2,\n",
    "                    validation_data=(x_test, y_test),\n",
    "                    validation_steps=x_test.shape[0] // batch_size)"
   ]
  },
  {
   "cell_type": "code",
   "execution_count": 173,
   "id": "48c7b252",
   "metadata": {},
   "outputs": [
    {
     "name": "stdout",
     "output_type": "stream",
     "text": [
      "3360/3360 [==============================] - 2s 566us/sample - loss: 0.1583 - accuracy: 0.9634\n"
     ]
    },
    {
     "data": {
      "text/plain": [
       "[0.1582731046107559, 0.96339285]"
      ]
     },
     "execution_count": 173,
     "metadata": {},
     "output_type": "execute_result"
    }
   ],
   "source": [
    "model.evaluate(x_test, y_test)"
   ]
  },
  {
   "cell_type": "code",
   "execution_count": 174,
   "id": "a07d1830",
   "metadata": {},
   "outputs": [],
   "source": [
    "model.save(\"arabic_character_recognition.h5\")"
   ]
  },
  {
   "cell_type": "code",
   "execution_count": null,
   "id": "0b7ee901",
   "metadata": {},
   "outputs": [],
   "source": []
  }
 ],
 "metadata": {
  "kernelspec": {
   "display_name": "Python 3",
   "language": "python",
   "name": "python3"
  },
  "language_info": {
   "codemirror_mode": {
    "name": "ipython",
    "version": 3
   },
   "file_extension": ".py",
   "mimetype": "text/x-python",
   "name": "python",
   "nbconvert_exporter": "python",
   "pygments_lexer": "ipython3",
   "version": "3.7.10"
  }
 },
 "nbformat": 4,
 "nbformat_minor": 5
}
